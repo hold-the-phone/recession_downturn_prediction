{
 "cells": [
  {
   "cell_type": "code",
   "execution_count": 1,
   "metadata": {},
   "outputs": [],
   "source": [
    "import numpy as np\n",
    "import pandas as pd\n",
    "\n",
    "from sklearn.ensemble import RandomForestRegressor,RandomForestClassifier"
   ]
  },
  {
   "cell_type": "code",
   "execution_count": 2,
   "metadata": {},
   "outputs": [
    {
     "data": {
      "text/html": [
       "<div>\n",
       "<style scoped>\n",
       "    .dataframe tbody tr th:only-of-type {\n",
       "        vertical-align: middle;\n",
       "    }\n",
       "\n",
       "    .dataframe tbody tr th {\n",
       "        vertical-align: top;\n",
       "    }\n",
       "\n",
       "    .dataframe thead th {\n",
       "        text-align: right;\n",
       "    }\n",
       "</style>\n",
       "<table border=\"1\" class=\"dataframe\">\n",
       "  <thead>\n",
       "    <tr style=\"text-align: right;\">\n",
       "      <th></th>\n",
       "      <th>Date</th>\n",
       "      <th>Open</th>\n",
       "      <th>Close</th>\n",
       "      <th>monthly_return</th>\n",
       "      <th>period of downturn</th>\n",
       "      <th>Recessions</th>\n",
       "      <th>INDPRO</th>\n",
       "      <th>yc_date</th>\n",
       "      <th>YIELD_CURVE</th>\n",
       "      <th>UNEMPLOYMENT</th>\n",
       "      <th>BGI_diff_from_2_month_high</th>\n",
       "      <th>KO_diff_from_2_month_high</th>\n",
       "      <th>KR_diff_from_2_month_high</th>\n",
       "      <th>MAR_diff_from_2_month_high</th>\n",
       "      <th>PPG_diff_from_2_month_high</th>\n",
       "      <th>SHW_diff_from_2_month_high</th>\n",
       "      <th>unemployment_diff_from_6_month_low</th>\n",
       "      <th>INDPRO_diff_from_6_month_high</th>\n",
       "    </tr>\n",
       "  </thead>\n",
       "  <tbody>\n",
       "    <tr>\n",
       "      <th>0</th>\n",
       "      <td>1950-02-01</td>\n",
       "      <td>17.049999</td>\n",
       "      <td>17.219999</td>\n",
       "      <td>0.009971</td>\n",
       "      <td>0</td>\n",
       "      <td>0</td>\n",
       "      <td>NaN</td>\n",
       "      <td>1976-06-01</td>\n",
       "      <td>NaN</td>\n",
       "      <td>NaN</td>\n",
       "      <td>NaN</td>\n",
       "      <td>NaN</td>\n",
       "      <td>NaN</td>\n",
       "      <td>NaN</td>\n",
       "      <td>NaN</td>\n",
       "      <td>NaN</td>\n",
       "      <td>NaN</td>\n",
       "      <td>NaN</td>\n",
       "    </tr>\n",
       "    <tr>\n",
       "      <th>1</th>\n",
       "      <td>1950-03-01</td>\n",
       "      <td>17.240000</td>\n",
       "      <td>17.290001</td>\n",
       "      <td>0.002900</td>\n",
       "      <td>0</td>\n",
       "      <td>0</td>\n",
       "      <td>14.4279</td>\n",
       "      <td>1976-06-01</td>\n",
       "      <td>NaN</td>\n",
       "      <td>6.5</td>\n",
       "      <td>NaN</td>\n",
       "      <td>NaN</td>\n",
       "      <td>NaN</td>\n",
       "      <td>NaN</td>\n",
       "      <td>NaN</td>\n",
       "      <td>NaN</td>\n",
       "      <td>NaN</td>\n",
       "      <td>NaN</td>\n",
       "    </tr>\n",
       "    <tr>\n",
       "      <th>2</th>\n",
       "      <td>1950-04-01</td>\n",
       "      <td>17.340000</td>\n",
       "      <td>18.070000</td>\n",
       "      <td>0.042099</td>\n",
       "      <td>0</td>\n",
       "      <td>0</td>\n",
       "      <td>14.4833</td>\n",
       "      <td>1976-06-01</td>\n",
       "      <td>NaN</td>\n",
       "      <td>6.4</td>\n",
       "      <td>NaN</td>\n",
       "      <td>NaN</td>\n",
       "      <td>NaN</td>\n",
       "      <td>NaN</td>\n",
       "      <td>NaN</td>\n",
       "      <td>NaN</td>\n",
       "      <td>NaN</td>\n",
       "      <td>NaN</td>\n",
       "    </tr>\n",
       "    <tr>\n",
       "      <th>3</th>\n",
       "      <td>1950-05-01</td>\n",
       "      <td>18.219999</td>\n",
       "      <td>18.780001</td>\n",
       "      <td>0.030736</td>\n",
       "      <td>0</td>\n",
       "      <td>0</td>\n",
       "      <td>14.9541</td>\n",
       "      <td>1976-06-01</td>\n",
       "      <td>NaN</td>\n",
       "      <td>6.3</td>\n",
       "      <td>NaN</td>\n",
       "      <td>NaN</td>\n",
       "      <td>NaN</td>\n",
       "      <td>NaN</td>\n",
       "      <td>NaN</td>\n",
       "      <td>NaN</td>\n",
       "      <td>NaN</td>\n",
       "      <td>NaN</td>\n",
       "    </tr>\n",
       "    <tr>\n",
       "      <th>4</th>\n",
       "      <td>1950-06-01</td>\n",
       "      <td>18.770000</td>\n",
       "      <td>17.690001</td>\n",
       "      <td>-0.057539</td>\n",
       "      <td>0</td>\n",
       "      <td>0</td>\n",
       "      <td>15.4526</td>\n",
       "      <td>1976-06-01</td>\n",
       "      <td>NaN</td>\n",
       "      <td>5.8</td>\n",
       "      <td>NaN</td>\n",
       "      <td>NaN</td>\n",
       "      <td>NaN</td>\n",
       "      <td>NaN</td>\n",
       "      <td>NaN</td>\n",
       "      <td>NaN</td>\n",
       "      <td>NaN</td>\n",
       "      <td>NaN</td>\n",
       "    </tr>\n",
       "  </tbody>\n",
       "</table>\n",
       "</div>"
      ],
      "text/plain": [
       "        Date       Open      Close  monthly_return  period of downturn  \\\n",
       "0 1950-02-01  17.049999  17.219999        0.009971                   0   \n",
       "1 1950-03-01  17.240000  17.290001        0.002900                   0   \n",
       "2 1950-04-01  17.340000  18.070000        0.042099                   0   \n",
       "3 1950-05-01  18.219999  18.780001        0.030736                   0   \n",
       "4 1950-06-01  18.770000  17.690001       -0.057539                   0   \n",
       "\n",
       "   Recessions   INDPRO     yc_date  YIELD_CURVE  UNEMPLOYMENT  \\\n",
       "0           0      NaN  1976-06-01          NaN           NaN   \n",
       "1           0  14.4279  1976-06-01          NaN           6.5   \n",
       "2           0  14.4833  1976-06-01          NaN           6.4   \n",
       "3           0  14.9541  1976-06-01          NaN           6.3   \n",
       "4           0  15.4526  1976-06-01          NaN           5.8   \n",
       "\n",
       "   BGI_diff_from_2_month_high  KO_diff_from_2_month_high  \\\n",
       "0                         NaN                        NaN   \n",
       "1                         NaN                        NaN   \n",
       "2                         NaN                        NaN   \n",
       "3                         NaN                        NaN   \n",
       "4                         NaN                        NaN   \n",
       "\n",
       "   KR_diff_from_2_month_high  MAR_diff_from_2_month_high  \\\n",
       "0                        NaN                         NaN   \n",
       "1                        NaN                         NaN   \n",
       "2                        NaN                         NaN   \n",
       "3                        NaN                         NaN   \n",
       "4                        NaN                         NaN   \n",
       "\n",
       "   PPG_diff_from_2_month_high  SHW_diff_from_2_month_high  \\\n",
       "0                         NaN                         NaN   \n",
       "1                         NaN                         NaN   \n",
       "2                         NaN                         NaN   \n",
       "3                         NaN                         NaN   \n",
       "4                         NaN                         NaN   \n",
       "\n",
       "   unemployment_diff_from_6_month_low  INDPRO_diff_from_6_month_high  \n",
       "0                                 NaN                            NaN  \n",
       "1                                 NaN                            NaN  \n",
       "2                                 NaN                            NaN  \n",
       "3                                 NaN                            NaN  \n",
       "4                                 NaN                            NaN  "
      ]
     },
     "execution_count": 2,
     "metadata": {},
     "output_type": "execute_result"
    }
   ],
   "source": [
    "df = pd.read_csv('reg_ready.csv')\n",
    "df['Date'] = pd.to_datetime(df['Date'])\n",
    "df.head()"
   ]
  },
  {
   "cell_type": "markdown",
   "metadata": {},
   "source": [
    "#### First, rf regression with [all features but MAR and BGI]. Runs back to 1980 or so "
   ]
  },
  {
   "cell_type": "code",
   "execution_count": 3,
   "metadata": {},
   "outputs": [
    {
     "data": {
      "text/plain": [
       "Index(['Date', 'Open', 'Close', 'monthly_return', 'period of downturn',\n",
       "       'Recessions', 'INDPRO', 'yc_date', 'YIELD_CURVE', 'UNEMPLOYMENT',\n",
       "       'BGI_diff_from_2_month_high', 'KO_diff_from_2_month_high',\n",
       "       'KR_diff_from_2_month_high', 'MAR_diff_from_2_month_high',\n",
       "       'PPG_diff_from_2_month_high', 'SHW_diff_from_2_month_high',\n",
       "       'unemployment_diff_from_6_month_low', 'INDPRO_diff_from_6_month_high'],\n",
       "      dtype='object')"
      ]
     },
     "execution_count": 3,
     "metadata": {},
     "output_type": "execute_result"
    }
   ],
   "source": [
    "df.columns"
   ]
  },
  {
   "cell_type": "code",
   "execution_count": 4,
   "metadata": {},
   "outputs": [
    {
     "name": "stderr",
     "output_type": "stream",
     "text": [
      "/Users/samuelholden/anaconda3/lib/python3.6/site-packages/ipykernel_launcher.py:9: SettingWithCopyWarning: \n",
      "A value is trying to be set on a copy of a slice from a DataFrame\n",
      "\n",
      "See the caveats in the documentation: http://pandas.pydata.org/pandas-docs/stable/user_guide/indexing.html#returning-a-view-versus-a-copy\n",
      "  if __name__ == '__main__':\n",
      "/Users/samuelholden/anaconda3/lib/python3.6/site-packages/ipykernel_launcher.py:10: SettingWithCopyWarning: \n",
      "A value is trying to be set on a copy of a slice from a DataFrame\n",
      "\n",
      "See the caveats in the documentation: http://pandas.pydata.org/pandas-docs/stable/user_guide/indexing.html#returning-a-view-versus-a-copy\n",
      "  # Remove the CWD from sys.path while we load stuff.\n"
     ]
    },
    {
     "name": "stdout",
     "output_type": "stream",
     "text": [
      "0.22706289849224193\n",
      "-0.031849495860119204\n"
     ]
    },
    {
     "name": "stderr",
     "output_type": "stream",
     "text": [
      "/Users/samuelholden/anaconda3/lib/python3.6/site-packages/ipykernel_launcher.py:24: SettingWithCopyWarning: \n",
      "A value is trying to be set on a copy of a slice from a DataFrame.\n",
      "Try using .loc[row_indexer,col_indexer] = value instead\n",
      "\n",
      "See the caveats in the documentation: http://pandas.pydata.org/pandas-docs/stable/user_guide/indexing.html#returning-a-view-versus-a-copy\n"
     ]
    }
   ],
   "source": [
    "REL_VARS = ['YIELD_CURVE','KO_diff_from_2_month_high',\n",
    "       'KR_diff_from_2_month_high',\n",
    "       'PPG_diff_from_2_month_high', 'SHW_diff_from_2_month_high',\n",
    "       'unemployment_diff_from_6_month_low', 'INDPRO_diff_from_6_month_high']\n",
    "\n",
    "df_train = df[df['Date']<pd.to_datetime('2005-01-01')]\n",
    "df_test = df[df['Date']>=pd.to_datetime('2005-01-01')]\n",
    "\n",
    "df_train.dropna(subset=REL_VARS,inplace=True)\n",
    "df_test.dropna(subset=REL_VARS,inplace=True)\n",
    "\n",
    "x_train = df_train[REL_VARS]\n",
    "x_test = df_test[REL_VARS]\n",
    "\n",
    "y_train = df_train['monthly_return']\n",
    "y_test = df_test['monthly_return']\n",
    "\n",
    "\n",
    "rf = RandomForestRegressor(n_estimators=2500,max_depth=4,max_features='sqrt')\n",
    "rf.fit(x_train,y_train)\n",
    "\n",
    "print(rf.score(x_train,y_train))\n",
    "\n",
    "df_test['pred'] = rf.predict(x_test)\n",
    "\n",
    "print(rf.score(x_test,y_test))\n",
    "\n",
    "df_test.to_csv('testset_returns_regression_1980.csv',index=False)"
   ]
  },
  {
   "cell_type": "markdown",
   "metadata": {},
   "source": [
    "#### Classification from 1980"
   ]
  },
  {
   "cell_type": "code",
   "execution_count": 5,
   "metadata": {},
   "outputs": [
    {
     "name": "stderr",
     "output_type": "stream",
     "text": [
      "/Users/samuelholden/anaconda3/lib/python3.6/site-packages/ipykernel_launcher.py:9: SettingWithCopyWarning: \n",
      "A value is trying to be set on a copy of a slice from a DataFrame\n",
      "\n",
      "See the caveats in the documentation: http://pandas.pydata.org/pandas-docs/stable/user_guide/indexing.html#returning-a-view-versus-a-copy\n",
      "  if __name__ == '__main__':\n",
      "/Users/samuelholden/anaconda3/lib/python3.6/site-packages/ipykernel_launcher.py:10: SettingWithCopyWarning: \n",
      "A value is trying to be set on a copy of a slice from a DataFrame\n",
      "\n",
      "See the caveats in the documentation: http://pandas.pydata.org/pandas-docs/stable/user_guide/indexing.html#returning-a-view-versus-a-copy\n",
      "  # Remove the CWD from sys.path while we load stuff.\n"
     ]
    },
    {
     "name": "stdout",
     "output_type": "stream",
     "text": [
      "0.9191919191919192\n",
      "0.9204545454545454\n"
     ]
    },
    {
     "name": "stderr",
     "output_type": "stream",
     "text": [
      "/Users/samuelholden/anaconda3/lib/python3.6/site-packages/ipykernel_launcher.py:25: SettingWithCopyWarning: \n",
      "A value is trying to be set on a copy of a slice from a DataFrame.\n",
      "Try using .loc[row_indexer,col_indexer] = value instead\n",
      "\n",
      "See the caveats in the documentation: http://pandas.pydata.org/pandas-docs/stable/user_guide/indexing.html#returning-a-view-versus-a-copy\n",
      "/Users/samuelholden/anaconda3/lib/python3.6/site-packages/ipykernel_launcher.py:27: SettingWithCopyWarning: \n",
      "A value is trying to be set on a copy of a slice from a DataFrame.\n",
      "Try using .loc[row_indexer,col_indexer] = value instead\n",
      "\n",
      "See the caveats in the documentation: http://pandas.pydata.org/pandas-docs/stable/user_guide/indexing.html#returning-a-view-versus-a-copy\n"
     ]
    }
   ],
   "source": [
    "REL_VARS = ['YIELD_CURVE','KO_diff_from_2_month_high',\n",
    "       'KR_diff_from_2_month_high',\n",
    "       'PPG_diff_from_2_month_high', 'SHW_diff_from_2_month_high',\n",
    "       'unemployment_diff_from_6_month_low', 'INDPRO_diff_from_6_month_high']\n",
    "\n",
    "df_train = df[df['Date']<pd.to_datetime('2005-01-01')]\n",
    "df_test = df[df['Date']>=pd.to_datetime('2005-01-01')]\n",
    "\n",
    "df_train.dropna(subset=REL_VARS,inplace=True)\n",
    "df_test.dropna(subset=REL_VARS,inplace=True)\n",
    "\n",
    "x_train = df_train[REL_VARS]\n",
    "x_test = df_test[REL_VARS]\n",
    "\n",
    "y_train = df_train['period of downturn']\n",
    "y_test = df_test['period of downturn']\n",
    "\n",
    "\n",
    "rf = RandomForestClassifier(n_estimators=2500,max_depth=4,max_features='sqrt')\n",
    "rf.fit(x_train,y_train)\n",
    "\n",
    "print(rf.score(x_train,y_train))\n",
    "print(rf.score(x_test,y_test))\n",
    "\n",
    "df_train['pred'] = rf.predict_proba(x_train)[:,1]\n",
    "\n",
    "df_test['pred'] = rf.predict_proba(x_test)[:,1]\n",
    "\n",
    "df_train.to_csv('trainset_returns_classification_1980.csv',index=False)\n",
    "df_test.to_csv('testset_returns_classification_1980.csv',index=False)"
   ]
  },
  {
   "cell_type": "markdown",
   "metadata": {},
   "source": [
    "#### Let us try IND_PRO, UNEMPLOYMENT and Coca-Cola (from 1962) reg and classification below"
   ]
  },
  {
   "cell_type": "code",
   "execution_count": 6,
   "metadata": {},
   "outputs": [
    {
     "name": "stderr",
     "output_type": "stream",
     "text": [
      "/Users/samuelholden/anaconda3/lib/python3.6/site-packages/ipykernel_launcher.py:7: SettingWithCopyWarning: \n",
      "A value is trying to be set on a copy of a slice from a DataFrame\n",
      "\n",
      "See the caveats in the documentation: http://pandas.pydata.org/pandas-docs/stable/user_guide/indexing.html#returning-a-view-versus-a-copy\n",
      "  import sys\n",
      "/Users/samuelholden/anaconda3/lib/python3.6/site-packages/ipykernel_launcher.py:8: SettingWithCopyWarning: \n",
      "A value is trying to be set on a copy of a slice from a DataFrame\n",
      "\n",
      "See the caveats in the documentation: http://pandas.pydata.org/pandas-docs/stable/user_guide/indexing.html#returning-a-view-versus-a-copy\n",
      "  \n"
     ]
    },
    {
     "name": "stdout",
     "output_type": "stream",
     "text": [
      "0.12544402312305913\n",
      "-0.020166294236235283\n"
     ]
    },
    {
     "name": "stderr",
     "output_type": "stream",
     "text": [
      "/Users/samuelholden/anaconda3/lib/python3.6/site-packages/ipykernel_launcher.py:22: SettingWithCopyWarning: \n",
      "A value is trying to be set on a copy of a slice from a DataFrame.\n",
      "Try using .loc[row_indexer,col_indexer] = value instead\n",
      "\n",
      "See the caveats in the documentation: http://pandas.pydata.org/pandas-docs/stable/user_guide/indexing.html#returning-a-view-versus-a-copy\n"
     ]
    }
   ],
   "source": [
    "REL_VARS = ['KO_diff_from_2_month_high',\n",
    "       'unemployment_diff_from_6_month_low', 'INDPRO_diff_from_6_month_high']\n",
    "\n",
    "df_train = df[df['Date']<pd.to_datetime('2005-01-01')]\n",
    "df_test = df[df['Date']>=pd.to_datetime('2005-01-01')]\n",
    "\n",
    "df_train.dropna(subset=REL_VARS,inplace=True)\n",
    "df_test.dropna(subset=REL_VARS,inplace=True)\n",
    "\n",
    "x_train = df_train[REL_VARS]\n",
    "x_test = df_test[REL_VARS]\n",
    "\n",
    "y_train = df_train['monthly_return']\n",
    "y_test = df_test['monthly_return']\n",
    "\n",
    "\n",
    "rf = RandomForestRegressor(n_estimators=2500,max_depth=4,max_features='sqrt')\n",
    "rf.fit(x_train,y_train)\n",
    "\n",
    "print(rf.score(x_train,y_train))\n",
    "\n",
    "df_test['pred'] = rf.predict(x_test)\n",
    "\n",
    "print(rf.score(x_test,y_test))\n",
    "\n",
    "df_test.to_csv('testset_returns_regression_1962.csv',index=False)"
   ]
  },
  {
   "cell_type": "code",
   "execution_count": 7,
   "metadata": {
    "scrolled": true
   },
   "outputs": [
    {
     "name": "stderr",
     "output_type": "stream",
     "text": [
      "/Users/samuelholden/anaconda3/lib/python3.6/site-packages/ipykernel_launcher.py:7: SettingWithCopyWarning: \n",
      "A value is trying to be set on a copy of a slice from a DataFrame\n",
      "\n",
      "See the caveats in the documentation: http://pandas.pydata.org/pandas-docs/stable/user_guide/indexing.html#returning-a-view-versus-a-copy\n",
      "  import sys\n",
      "/Users/samuelholden/anaconda3/lib/python3.6/site-packages/ipykernel_launcher.py:8: SettingWithCopyWarning: \n",
      "A value is trying to be set on a copy of a slice from a DataFrame\n",
      "\n",
      "See the caveats in the documentation: http://pandas.pydata.org/pandas-docs/stable/user_guide/indexing.html#returning-a-view-versus-a-copy\n",
      "  \n"
     ]
    },
    {
     "name": "stdout",
     "output_type": "stream",
     "text": [
      "0.8330097087378641\n",
      "0.9204545454545454\n"
     ]
    },
    {
     "name": "stderr",
     "output_type": "stream",
     "text": [
      "/Users/samuelholden/anaconda3/lib/python3.6/site-packages/ipykernel_launcher.py:23: SettingWithCopyWarning: \n",
      "A value is trying to be set on a copy of a slice from a DataFrame.\n",
      "Try using .loc[row_indexer,col_indexer] = value instead\n",
      "\n",
      "See the caveats in the documentation: http://pandas.pydata.org/pandas-docs/stable/user_guide/indexing.html#returning-a-view-versus-a-copy\n",
      "/Users/samuelholden/anaconda3/lib/python3.6/site-packages/ipykernel_launcher.py:25: SettingWithCopyWarning: \n",
      "A value is trying to be set on a copy of a slice from a DataFrame.\n",
      "Try using .loc[row_indexer,col_indexer] = value instead\n",
      "\n",
      "See the caveats in the documentation: http://pandas.pydata.org/pandas-docs/stable/user_guide/indexing.html#returning-a-view-versus-a-copy\n"
     ]
    }
   ],
   "source": [
    "REL_VARS = ['KO_diff_from_2_month_high',\n",
    "       'unemployment_diff_from_6_month_low', 'INDPRO_diff_from_6_month_high']\n",
    "\n",
    "df_train = df[df['Date']<pd.to_datetime('2005-01-01')]\n",
    "df_test = df[df['Date']>=pd.to_datetime('2005-01-01')]\n",
    "\n",
    "df_train.dropna(subset=REL_VARS,inplace=True)\n",
    "df_test.dropna(subset=REL_VARS,inplace=True)\n",
    "\n",
    "x_train = df_train[REL_VARS]\n",
    "x_test = df_test[REL_VARS]\n",
    "\n",
    "y_train = df_train['period of downturn']\n",
    "y_test = df_test['period of downturn']\n",
    "\n",
    "\n",
    "rf = RandomForestClassifier(n_estimators=2500,max_depth=4,max_features='sqrt')\n",
    "rf.fit(x_train,y_train)\n",
    "\n",
    "print(rf.score(x_train,y_train))\n",
    "print(rf.score(x_test,y_test))\n",
    "\n",
    "df_train['pred'] = rf.predict_proba(x_train)[:,1]\n",
    "\n",
    "df_test['pred'] = rf.predict_proba(x_test)[:,1]\n",
    "\n",
    "df_train.to_csv('trainset_returns_classification_1962.csv',index=False)\n",
    "df_test.to_csv('testset_returns_classification_1962.csv',index=False)"
   ]
  },
  {
   "cell_type": "markdown",
   "metadata": {},
   "source": [
    "#### 1980 was better (more features available in the dataset)"
   ]
  },
  {
   "cell_type": "markdown",
   "metadata": {},
   "source": [
    "#### Let us visualize feature importance in the 1980 example"
   ]
  },
  {
   "cell_type": "code",
   "execution_count": 8,
   "metadata": {},
   "outputs": [
    {
     "name": "stderr",
     "output_type": "stream",
     "text": [
      "/Users/samuelholden/anaconda3/lib/python3.6/site-packages/ipykernel_launcher.py:12: SettingWithCopyWarning: \n",
      "A value is trying to be set on a copy of a slice from a DataFrame\n",
      "\n",
      "See the caveats in the documentation: http://pandas.pydata.org/pandas-docs/stable/user_guide/indexing.html#returning-a-view-versus-a-copy\n",
      "  if sys.path[0] == '':\n",
      "/Users/samuelholden/anaconda3/lib/python3.6/site-packages/ipykernel_launcher.py:13: SettingWithCopyWarning: \n",
      "A value is trying to be set on a copy of a slice from a DataFrame\n",
      "\n",
      "See the caveats in the documentation: http://pandas.pydata.org/pandas-docs/stable/user_guide/indexing.html#returning-a-view-versus-a-copy\n",
      "  del sys.path[0]\n"
     ]
    },
    {
     "name": "stdout",
     "output_type": "stream",
     "text": [
      "let's see the feature importances:\n",
      "[0.41143017 0.09555708 0.07509091 0.11201642 0.09725733 0.10565904\n",
      " 0.10298906]\n"
     ]
    }
   ],
   "source": [
    "REL_VARS = ['YIELD_CURVE',\n",
    "        'KO_diff_from_2_month_high',\n",
    "       'KR_diff_from_2_month_high',\n",
    "       'PPG_diff_from_2_month_high', \n",
    "        'SHW_diff_from_2_month_high',\n",
    "       'unemployment_diff_from_6_month_low', \n",
    "        'INDPRO_diff_from_6_month_high']\n",
    "\n",
    "df_train = df[df['Date']<pd.to_datetime('2005-01-01')]\n",
    "df_test = df[df['Date']>=pd.to_datetime('2005-01-01')]\n",
    "\n",
    "df_train.dropna(subset=REL_VARS,inplace=True)\n",
    "df_test.dropna(subset=REL_VARS,inplace=True)\n",
    "\n",
    "x_train = df_train[REL_VARS]\n",
    "x_test = df_test[REL_VARS]\n",
    "\n",
    "y_train = df_train['period of downturn']\n",
    "y_test = df_test['period of downturn']\n",
    "\n",
    "\n",
    "rf = RandomForestClassifier(n_estimators=2500,max_depth=4,max_features='sqrt')\n",
    "rf.fit(x_train,y_train)\n",
    "\n",
    "print(\"let's see the feature importances:\")\n",
    "print(rf.feature_importances_)"
   ]
  },
  {
   "cell_type": "markdown",
   "metadata": {},
   "source": [
    "#### Let's get rid of the bottom three features and rerun (results saved this time.)"
   ]
  },
  {
   "cell_type": "code",
   "execution_count": 9,
   "metadata": {},
   "outputs": [
    {
     "name": "stdout",
     "output_type": "stream",
     "text": [
      "(176, 18)\n"
     ]
    },
    {
     "name": "stderr",
     "output_type": "stream",
     "text": [
      "/Users/samuelholden/anaconda3/lib/python3.6/site-packages/ipykernel_launcher.py:10: SettingWithCopyWarning: \n",
      "A value is trying to be set on a copy of a slice from a DataFrame\n",
      "\n",
      "See the caveats in the documentation: http://pandas.pydata.org/pandas-docs/stable/user_guide/indexing.html#returning-a-view-versus-a-copy\n",
      "  # Remove the CWD from sys.path while we load stuff.\n",
      "/Users/samuelholden/anaconda3/lib/python3.6/site-packages/ipykernel_launcher.py:11: SettingWithCopyWarning: \n",
      "A value is trying to be set on a copy of a slice from a DataFrame\n",
      "\n",
      "See the caveats in the documentation: http://pandas.pydata.org/pandas-docs/stable/user_guide/indexing.html#returning-a-view-versus-a-copy\n",
      "  # This is added back by InteractiveShellApp.init_path()\n"
     ]
    },
    {
     "name": "stdout",
     "output_type": "stream",
     "text": [
      "let's see the feature importances:\n",
      "[0.5477267  0.16764122 0.14423534 0.14039675]\n"
     ]
    },
    {
     "name": "stderr",
     "output_type": "stream",
     "text": [
      "/Users/samuelholden/anaconda3/lib/python3.6/site-packages/ipykernel_launcher.py:26: SettingWithCopyWarning: \n",
      "A value is trying to be set on a copy of a slice from a DataFrame.\n",
      "Try using .loc[row_indexer,col_indexer] = value instead\n",
      "\n",
      "See the caveats in the documentation: http://pandas.pydata.org/pandas-docs/stable/user_guide/indexing.html#returning-a-view-versus-a-copy\n",
      "/Users/samuelholden/anaconda3/lib/python3.6/site-packages/ipykernel_launcher.py:28: SettingWithCopyWarning: \n",
      "A value is trying to be set on a copy of a slice from a DataFrame.\n",
      "Try using .loc[row_indexer,col_indexer] = value instead\n",
      "\n",
      "See the caveats in the documentation: http://pandas.pydata.org/pandas-docs/stable/user_guide/indexing.html#returning-a-view-versus-a-copy\n"
     ]
    }
   ],
   "source": [
    "REL_VARS = ['YIELD_CURVE',\n",
    "       'PPG_diff_from_2_month_high',\n",
    "       'unemployment_diff_from_6_month_low', \n",
    "        'INDPRO_diff_from_6_month_high']\n",
    "\n",
    "df_train = df[df['Date']<pd.to_datetime('2005-01-01')]\n",
    "df_test = df[df['Date']>=pd.to_datetime('2005-01-01')]\n",
    "print(df_test.shape)\n",
    "\n",
    "df_train.dropna(subset=REL_VARS,inplace=True)\n",
    "df_test.dropna(subset=REL_VARS,inplace=True)\n",
    "\n",
    "x_train = df_train[REL_VARS]\n",
    "x_test = df_test[REL_VARS]\n",
    "\n",
    "y_train = df_train['period of downturn']\n",
    "y_test = df_test['period of downturn']\n",
    "\n",
    "\n",
    "rf = RandomForestClassifier(n_estimators=2500,max_depth=4,max_features='sqrt')\n",
    "rf.fit(x_train,y_train)\n",
    "\n",
    "print(\"let's see the feature importances:\")\n",
    "print(rf.feature_importances_)\n",
    "\n",
    "df_train['pred'] = rf.predict_proba(x_train)[:,1]\n",
    "\n",
    "df_test['pred'] = rf.predict_proba(x_test)[:,1]\n",
    "\n",
    "#df_train.to_csv('trainset_returns_classification_1980.csv',index=False)\n",
    "#df_test.to_csv('testset_returns_classification_1980.csv',index=False)"
   ]
  },
  {
   "cell_type": "markdown",
   "metadata": {},
   "source": [
    "#### Ok so yield curve, PPG, unemployment and Industrial Prod have some signal. I think a sequence-based modeling technique will allow us to uncover the point of \"first-trouble\" that holds a lot of the signal in the three features of lesser importance according to RF. Pretty obvious when you consider how industrial production and unemployment continue to deteriorate  for a few months after financial markets have begun their recovery. Possibly sarimax, but likely need interactions. Let's see if RNN plays nice with our small dataset."
   ]
  },
  {
   "cell_type": "code",
   "execution_count": null,
   "metadata": {},
   "outputs": [],
   "source": []
  }
 ],
 "metadata": {
  "kernelspec": {
   "display_name": "Python 3",
   "language": "python",
   "name": "python3"
  },
  "language_info": {
   "codemirror_mode": {
    "name": "ipython",
    "version": 3
   },
   "file_extension": ".py",
   "mimetype": "text/x-python",
   "name": "python",
   "nbconvert_exporter": "python",
   "pygments_lexer": "ipython3",
   "version": "3.6.5"
  }
 },
 "nbformat": 4,
 "nbformat_minor": 2
}
