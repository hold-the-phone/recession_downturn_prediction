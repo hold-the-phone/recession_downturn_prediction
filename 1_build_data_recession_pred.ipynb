{
 "cells": [
  {
   "cell_type": "markdown",
   "metadata": {},
   "source": [
    "## Targets is S&P500 returns, input is either from FRED St. Louis or Yahoo finance"
   ]
  },
  {
   "cell_type": "code",
   "execution_count": 6,
   "metadata": {},
   "outputs": [],
   "source": [
    "import numpy as np\n",
    "import pandas as pd"
   ]
  },
  {
   "cell_type": "markdown",
   "metadata": {},
   "source": [
    "#### Read in the targets. Periods of downturn are periods where consecutive monthly returns <-15%"
   ]
  },
  {
   "cell_type": "code",
   "execution_count": 7,
   "metadata": {
    "scrolled": true
   },
   "outputs": [
    {
     "data": {
      "text/html": [
       "<div>\n",
       "<style scoped>\n",
       "    .dataframe tbody tr th:only-of-type {\n",
       "        vertical-align: middle;\n",
       "    }\n",
       "\n",
       "    .dataframe tbody tr th {\n",
       "        vertical-align: top;\n",
       "    }\n",
       "\n",
       "    .dataframe thead th {\n",
       "        text-align: right;\n",
       "    }\n",
       "</style>\n",
       "<table border=\"1\" class=\"dataframe\">\n",
       "  <thead>\n",
       "    <tr style=\"text-align: right;\">\n",
       "      <th></th>\n",
       "      <th>Date</th>\n",
       "      <th>Open</th>\n",
       "      <th>Close</th>\n",
       "      <th>monthly_return</th>\n",
       "      <th>period of downturn</th>\n",
       "      <th>Recessions</th>\n",
       "    </tr>\n",
       "  </thead>\n",
       "  <tbody>\n",
       "    <tr>\n",
       "      <th>0</th>\n",
       "      <td>1950-01-01</td>\n",
       "      <td>16.660000</td>\n",
       "      <td>17.049999</td>\n",
       "      <td>0.023409</td>\n",
       "      <td>0</td>\n",
       "      <td>0</td>\n",
       "    </tr>\n",
       "    <tr>\n",
       "      <th>1</th>\n",
       "      <td>1950-02-01</td>\n",
       "      <td>17.049999</td>\n",
       "      <td>17.219999</td>\n",
       "      <td>0.009971</td>\n",
       "      <td>0</td>\n",
       "      <td>0</td>\n",
       "    </tr>\n",
       "    <tr>\n",
       "      <th>2</th>\n",
       "      <td>1950-03-01</td>\n",
       "      <td>17.240000</td>\n",
       "      <td>17.290001</td>\n",
       "      <td>0.002900</td>\n",
       "      <td>0</td>\n",
       "      <td>0</td>\n",
       "    </tr>\n",
       "    <tr>\n",
       "      <th>3</th>\n",
       "      <td>1950-04-01</td>\n",
       "      <td>17.340000</td>\n",
       "      <td>18.070000</td>\n",
       "      <td>0.042099</td>\n",
       "      <td>0</td>\n",
       "      <td>0</td>\n",
       "    </tr>\n",
       "    <tr>\n",
       "      <th>4</th>\n",
       "      <td>1950-05-01</td>\n",
       "      <td>18.219999</td>\n",
       "      <td>18.780001</td>\n",
       "      <td>0.030736</td>\n",
       "      <td>0</td>\n",
       "      <td>0</td>\n",
       "    </tr>\n",
       "  </tbody>\n",
       "</table>\n",
       "</div>"
      ],
      "text/plain": [
       "        Date       Open      Close  monthly_return  period of downturn  \\\n",
       "0 1950-01-01  16.660000  17.049999        0.023409                   0   \n",
       "1 1950-02-01  17.049999  17.219999        0.009971                   0   \n",
       "2 1950-03-01  17.240000  17.290001        0.002900                   0   \n",
       "3 1950-04-01  17.340000  18.070000        0.042099                   0   \n",
       "4 1950-05-01  18.219999  18.780001        0.030736                   0   \n",
       "\n",
       "   Recessions  \n",
       "0           0  \n",
       "1           0  \n",
       "2           0  \n",
       "3           0  \n",
       "4           0  "
      ]
     },
     "execution_count": 7,
     "metadata": {},
     "output_type": "execute_result"
    }
   ],
   "source": [
    "df = pd.read_csv('targets.csv')\n",
    "df = df[['Date','Open','Close','monthly_return','period of downturn','Recessions']]\n",
    "df['Date'] = pd.to_datetime(df['Date'])\n",
    "df.head()"
   ]
  },
  {
   "cell_type": "markdown",
   "metadata": {},
   "source": [
    "#### Read in Industrial Production from FRED STL, lagging by 2 months for results to come out"
   ]
  },
  {
   "cell_type": "code",
   "execution_count": 8,
   "metadata": {},
   "outputs": [],
   "source": [
    "indpro = pd.read_csv('INDPRO.csv')\n",
    "indpro.columns = ['Date','INDPRO']\n",
    "indpro['Date'] = pd.to_datetime(indpro['Date'])\n",
    "\n",
    "df = df.merge(indpro, how='left', on='Date')\n",
    "df['INDPRO'] = df['INDPRO'].shift(2)"
   ]
  },
  {
   "cell_type": "markdown",
   "metadata": {},
   "source": [
    "#### Read in daily yield curve and match with the monthly stock result using fuzzy logic (yc data was available for weekdays only)"
   ]
  },
  {
   "cell_type": "code",
   "execution_count": 9,
   "metadata": {},
   "outputs": [],
   "source": [
    "def nearest(items, pivot):\n",
    "    return min(items, key=lambda x: abs(x - pivot))"
   ]
  },
  {
   "cell_type": "code",
   "execution_count": 10,
   "metadata": {
    "scrolled": true
   },
   "outputs": [],
   "source": [
    "yield_curve = pd.read_csv('T10Y2Y.csv')\n",
    "yield_curve.columns = ['Date','YIELD_CURVE']\n",
    "yield_curve['Date'] = pd.to_datetime(yield_curve['Date'])\n",
    "yield_curve['YIELD_CURVE'] = np.where(yield_curve['YIELD_CURVE']=='.',None,yield_curve['YIELD_CURVE'])\n",
    "yield_curve['YIELD_CURVE'].fillna(method='ffill', inplace=True)\n",
    "\n",
    "df['YIELD_CURVE'] = df['Date'].map(lambda x:nearest(yield_curve['Date'],x))    \n",
    "\n"
   ]
  },
  {
   "cell_type": "code",
   "execution_count": 11,
   "metadata": {},
   "outputs": [],
   "source": [
    "df.rename(columns={'YIELD_CURVE':'yc_date'},inplace=True)"
   ]
  },
  {
   "cell_type": "markdown",
   "metadata": {},
   "source": [
    "#### Accounting for the yc data starting in 1976"
   ]
  },
  {
   "cell_type": "code",
   "execution_count": 12,
   "metadata": {
    "scrolled": true
   },
   "outputs": [],
   "source": [
    "df1 = df.merge(yield_curve,how='left',left_on='yc_date',right_on='Date')\n",
    "df1['YIELD_CURVE'] = np.where(df1['Date_y']==pd.to_datetime('1976-06-01'),None,df1['YIELD_CURVE'])"
   ]
  },
  {
   "cell_type": "markdown",
   "metadata": {},
   "source": [
    "#### Read in unemployment and lag by 2 months for announcement time. Also checkpoint because fuzzy matching took some time"
   ]
  },
  {
   "cell_type": "code",
   "execution_count": 13,
   "metadata": {},
   "outputs": [],
   "source": [
    "df1.drop(columns=['Date_y'],inplace=True)\n",
    "df1.rename(columns={'Date_x':'Date'},inplace=True)\n",
    "\n",
    "unemploy = pd.read_csv('UNRATE.csv')\n",
    "unemploy.columns = ['Date','UNEMPLOYMENT']\n",
    "unemploy['Date'] = pd.to_datetime(unemploy['Date'])\n",
    "\n",
    "df1 = df1.merge(unemploy, how='left', on='Date')\n",
    "df1['UNEMPLOYMENT'] = df1['UNEMPLOYMENT'].shift(2)\n",
    "\n",
    "df1.to_csv('zzz_df_checkpoint.csv',index=False)"
   ]
  },
  {
   "cell_type": "markdown",
   "metadata": {},
   "source": [
    "#### Read in checkpoint_df"
   ]
  },
  {
   "cell_type": "code",
   "execution_count": 14,
   "metadata": {},
   "outputs": [],
   "source": [
    "df1 = pd.read_csv('zzz_df_checkpoint.csv')\n",
    "df1['Date'] = pd.to_datetime(df1['Date'])"
   ]
  },
  {
   "cell_type": "markdown",
   "metadata": {},
   "source": [
    "#### Read in individual stock data, get difference from 2-month high and merge"
   ]
  },
  {
   "cell_type": "code",
   "execution_count": 15,
   "metadata": {},
   "outputs": [],
   "source": [
    "tickers = ['BGI','KO','KR','MAR','PPG','SHW']\n",
    "for tick in tickers:\n",
    "    new_df = pd.read_csv(tick+'.csv')\n",
    "    new_df.columns = ['Date','Open','High','Low',tick+'_Close','Adj Close','Volume']\n",
    "    new_df = new_df[['Date',tick+'_Close']]\n",
    "    new_df['Date'] = pd.to_datetime(new_df['Date'])\n",
    "    new_df[tick+'_2_mth_high'] = new_df['Date'].map(lambda x:max(new_df[(new_df['Date']<=pd.to_datetime(x))&(new_df['Date']>=pd.to_datetime(x)-pd.Timedelta(35,'d'))][tick+'_Close']))\n",
    "    new_df[tick+'_diff_from_2_month_high'] = (new_df[tick+'_Close'] - new_df[tick+'_2_mth_high'])/new_df[tick+'_2_mth_high']\n",
    "    new_df = new_df[['Date',tick+'_diff_from_2_month_high']]\n",
    "    \n",
    "    df1 = df1.merge(new_df,how='left',on='Date')\n",
    "    df1[tick+'_diff_from_2_month_high'] = df1[tick+'_diff_from_2_month_high'].shift(1)"
   ]
  },
  {
   "cell_type": "markdown",
   "metadata": {},
   "source": [
    "#### Create difference from 6 month high(low) for unemployment and ind pro"
   ]
  },
  {
   "cell_type": "code",
   "execution_count": 16,
   "metadata": {},
   "outputs": [
    {
     "data": {
      "text/html": [
       "<div>\n",
       "<style scoped>\n",
       "    .dataframe tbody tr th:only-of-type {\n",
       "        vertical-align: middle;\n",
       "    }\n",
       "\n",
       "    .dataframe tbody tr th {\n",
       "        vertical-align: top;\n",
       "    }\n",
       "\n",
       "    .dataframe thead th {\n",
       "        text-align: right;\n",
       "    }\n",
       "</style>\n",
       "<table border=\"1\" class=\"dataframe\">\n",
       "  <thead>\n",
       "    <tr style=\"text-align: right;\">\n",
       "      <th></th>\n",
       "      <th>Date</th>\n",
       "      <th>Open</th>\n",
       "      <th>Close</th>\n",
       "      <th>monthly_return</th>\n",
       "      <th>period of downturn</th>\n",
       "      <th>Recessions</th>\n",
       "      <th>INDPRO</th>\n",
       "      <th>yc_date</th>\n",
       "      <th>YIELD_CURVE</th>\n",
       "      <th>UNEMPLOYMENT</th>\n",
       "      <th>BGI_diff_from_2_month_high</th>\n",
       "      <th>KO_diff_from_2_month_high</th>\n",
       "      <th>KR_diff_from_2_month_high</th>\n",
       "      <th>MAR_diff_from_2_month_high</th>\n",
       "      <th>PPG_diff_from_2_month_high</th>\n",
       "      <th>SHW_diff_from_2_month_high</th>\n",
       "      <th>unemployment_diff_from_6_month_low</th>\n",
       "      <th>INDPRO_diff_from_6_month_high</th>\n",
       "    </tr>\n",
       "  </thead>\n",
       "  <tbody>\n",
       "    <tr>\n",
       "      <th>1</th>\n",
       "      <td>1950-02-01</td>\n",
       "      <td>17.049999</td>\n",
       "      <td>17.219999</td>\n",
       "      <td>0.009971</td>\n",
       "      <td>0</td>\n",
       "      <td>0</td>\n",
       "      <td>NaN</td>\n",
       "      <td>1976-06-01</td>\n",
       "      <td>NaN</td>\n",
       "      <td>NaN</td>\n",
       "      <td>NaN</td>\n",
       "      <td>NaN</td>\n",
       "      <td>NaN</td>\n",
       "      <td>NaN</td>\n",
       "      <td>NaN</td>\n",
       "      <td>NaN</td>\n",
       "      <td>NaN</td>\n",
       "      <td>NaN</td>\n",
       "    </tr>\n",
       "    <tr>\n",
       "      <th>2</th>\n",
       "      <td>1950-03-01</td>\n",
       "      <td>17.240000</td>\n",
       "      <td>17.290001</td>\n",
       "      <td>0.002900</td>\n",
       "      <td>0</td>\n",
       "      <td>0</td>\n",
       "      <td>14.4279</td>\n",
       "      <td>1976-06-01</td>\n",
       "      <td>NaN</td>\n",
       "      <td>6.5</td>\n",
       "      <td>NaN</td>\n",
       "      <td>NaN</td>\n",
       "      <td>NaN</td>\n",
       "      <td>NaN</td>\n",
       "      <td>NaN</td>\n",
       "      <td>NaN</td>\n",
       "      <td>NaN</td>\n",
       "      <td>NaN</td>\n",
       "    </tr>\n",
       "    <tr>\n",
       "      <th>3</th>\n",
       "      <td>1950-04-01</td>\n",
       "      <td>17.340000</td>\n",
       "      <td>18.070000</td>\n",
       "      <td>0.042099</td>\n",
       "      <td>0</td>\n",
       "      <td>0</td>\n",
       "      <td>14.4833</td>\n",
       "      <td>1976-06-01</td>\n",
       "      <td>NaN</td>\n",
       "      <td>6.4</td>\n",
       "      <td>NaN</td>\n",
       "      <td>NaN</td>\n",
       "      <td>NaN</td>\n",
       "      <td>NaN</td>\n",
       "      <td>NaN</td>\n",
       "      <td>NaN</td>\n",
       "      <td>NaN</td>\n",
       "      <td>NaN</td>\n",
       "    </tr>\n",
       "    <tr>\n",
       "      <th>4</th>\n",
       "      <td>1950-05-01</td>\n",
       "      <td>18.219999</td>\n",
       "      <td>18.780001</td>\n",
       "      <td>0.030736</td>\n",
       "      <td>0</td>\n",
       "      <td>0</td>\n",
       "      <td>14.9541</td>\n",
       "      <td>1976-06-01</td>\n",
       "      <td>NaN</td>\n",
       "      <td>6.3</td>\n",
       "      <td>NaN</td>\n",
       "      <td>NaN</td>\n",
       "      <td>NaN</td>\n",
       "      <td>NaN</td>\n",
       "      <td>NaN</td>\n",
       "      <td>NaN</td>\n",
       "      <td>NaN</td>\n",
       "      <td>NaN</td>\n",
       "    </tr>\n",
       "    <tr>\n",
       "      <th>5</th>\n",
       "      <td>1950-06-01</td>\n",
       "      <td>18.770000</td>\n",
       "      <td>17.690001</td>\n",
       "      <td>-0.057539</td>\n",
       "      <td>0</td>\n",
       "      <td>0</td>\n",
       "      <td>15.4526</td>\n",
       "      <td>1976-06-01</td>\n",
       "      <td>NaN</td>\n",
       "      <td>5.8</td>\n",
       "      <td>NaN</td>\n",
       "      <td>NaN</td>\n",
       "      <td>NaN</td>\n",
       "      <td>NaN</td>\n",
       "      <td>NaN</td>\n",
       "      <td>NaN</td>\n",
       "      <td>NaN</td>\n",
       "      <td>NaN</td>\n",
       "    </tr>\n",
       "  </tbody>\n",
       "</table>\n",
       "</div>"
      ],
      "text/plain": [
       "        Date       Open      Close  monthly_return  period of downturn  \\\n",
       "1 1950-02-01  17.049999  17.219999        0.009971                   0   \n",
       "2 1950-03-01  17.240000  17.290001        0.002900                   0   \n",
       "3 1950-04-01  17.340000  18.070000        0.042099                   0   \n",
       "4 1950-05-01  18.219999  18.780001        0.030736                   0   \n",
       "5 1950-06-01  18.770000  17.690001       -0.057539                   0   \n",
       "\n",
       "   Recessions   INDPRO     yc_date  YIELD_CURVE  UNEMPLOYMENT  \\\n",
       "1           0      NaN  1976-06-01          NaN           NaN   \n",
       "2           0  14.4279  1976-06-01          NaN           6.5   \n",
       "3           0  14.4833  1976-06-01          NaN           6.4   \n",
       "4           0  14.9541  1976-06-01          NaN           6.3   \n",
       "5           0  15.4526  1976-06-01          NaN           5.8   \n",
       "\n",
       "   BGI_diff_from_2_month_high  KO_diff_from_2_month_high  \\\n",
       "1                         NaN                        NaN   \n",
       "2                         NaN                        NaN   \n",
       "3                         NaN                        NaN   \n",
       "4                         NaN                        NaN   \n",
       "5                         NaN                        NaN   \n",
       "\n",
       "   KR_diff_from_2_month_high  MAR_diff_from_2_month_high  \\\n",
       "1                        NaN                         NaN   \n",
       "2                        NaN                         NaN   \n",
       "3                        NaN                         NaN   \n",
       "4                        NaN                         NaN   \n",
       "5                        NaN                         NaN   \n",
       "\n",
       "   PPG_diff_from_2_month_high  SHW_diff_from_2_month_high  \\\n",
       "1                         NaN                         NaN   \n",
       "2                         NaN                         NaN   \n",
       "3                         NaN                         NaN   \n",
       "4                         NaN                         NaN   \n",
       "5                         NaN                         NaN   \n",
       "\n",
       "   unemployment_diff_from_6_month_low  INDPRO_diff_from_6_month_high  \n",
       "1                                 NaN                            NaN  \n",
       "2                                 NaN                            NaN  \n",
       "3                                 NaN                            NaN  \n",
       "4                                 NaN                            NaN  \n",
       "5                                 NaN                            NaN  "
      ]
     },
     "execution_count": 16,
     "metadata": {},
     "output_type": "execute_result"
    }
   ],
   "source": [
    "df1 = df1[df1['Date']!=pd.to_datetime('1950-01-01')]\n",
    "\n",
    "df1['unemployment_6_mth_low'] = df1['Date'].map(lambda x:min(df1[(df1['Date']<=pd.to_datetime(x))&(df1['Date']>=pd.to_datetime(x)-pd.Timedelta(180,'d'))]['UNEMPLOYMENT']))\n",
    "df1['unemployment_diff_from_6_month_low'] = df1['UNEMPLOYMENT'] - df1['unemployment_6_mth_low']\n",
    "\n",
    "df1['INDPRO_6_mth_high'] = df1['Date'].map(lambda x:max(df1[(df1['Date']<=pd.to_datetime(x))&(df1['Date']>=pd.to_datetime(x)-pd.Timedelta(180,'d'))]['INDPRO']))\n",
    "df1['INDPRO_diff_from_6_month_high'] = df1['INDPRO_6_mth_high'] - df1['INDPRO']\n",
    "\n",
    "\n",
    "df1.drop(columns=['unemployment_6_mth_low','INDPRO_6_mth_high'],inplace=True)\n",
    "df1.head()"
   ]
  },
  {
   "cell_type": "code",
   "execution_count": 17,
   "metadata": {},
   "outputs": [],
   "source": [
    "df1.to_csv('reg_ready.csv',index=False)"
   ]
  },
  {
   "cell_type": "code",
   "execution_count": null,
   "metadata": {},
   "outputs": [],
   "source": []
  }
 ],
 "metadata": {
  "kernelspec": {
   "display_name": "Python 3",
   "language": "python",
   "name": "python3"
  },
  "language_info": {
   "codemirror_mode": {
    "name": "ipython",
    "version": 3
   },
   "file_extension": ".py",
   "mimetype": "text/x-python",
   "name": "python",
   "nbconvert_exporter": "python",
   "pygments_lexer": "ipython3",
   "version": "3.6.8"
  }
 },
 "nbformat": 4,
 "nbformat_minor": 2
}
